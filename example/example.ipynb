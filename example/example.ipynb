{
 "cells": [
  {
   "cell_type": "markdown",
   "metadata": {
    "ExecuteTime": {
     "end_time": "2018-08-30T11:45:52.760582Z",
     "start_time": "2018-08-30T11:45:52.753947Z"
    },
    "autopy": 0
   },
   "source": [
    "# Example"
   ]
  },
  {
   "cell_type": "markdown",
   "metadata": {
    "autopy": 0
   },
   "source": [
    "### Mark a cell to be copied with: J (command mode)"
   ]
  },
  {
   "cell_type": "code",
   "execution_count": null,
   "metadata": {
    "ExecuteTime": {
     "end_time": "2018-08-31T09:28:49.667550Z",
     "start_time": "2018-08-31T09:28:49.662139Z"
    },
    "autopy": 1
   },
   "outputs": [],
   "source": [
    "import os"
   ]
  },
  {
   "cell_type": "code",
   "execution_count": null,
   "metadata": {
    "ExecuteTime": {
     "end_time": "2018-08-31T09:28:50.833727Z",
     "start_time": "2018-08-31T09:28:50.825518Z"
    },
    "autopy": 1
   },
   "outputs": [],
   "source": [
    "def f(a):\n",
    "    print(a)"
   ]
  },
  {
   "cell_type": "markdown",
   "metadata": {
    "autopy": 0
   },
   "source": [
    "### Mark a cell to be copied into main with: K (command mode)"
   ]
  },
  {
   "cell_type": "code",
   "execution_count": null,
   "metadata": {
    "ExecuteTime": {
     "end_time": "2018-08-31T09:28:52.347588Z",
     "start_time": "2018-08-31T09:28:52.340798Z"
    },
    "autopy": 2
   },
   "outputs": [],
   "source": [
    "a = 0"
   ]
  },
  {
   "cell_type": "code",
   "execution_count": null,
   "metadata": {
    "ExecuteTime": {
     "end_time": "2018-08-31T09:28:53.026424Z",
     "start_time": "2018-08-31T09:28:53.019801Z"
    },
    "autopy": 2
   },
   "outputs": [],
   "source": [
    "f(a)"
   ]
  },
  {
   "cell_type": "markdown",
   "metadata": {
    "autopy": 0
   },
   "source": [
    "### Cells will be copied in order"
   ]
  },
  {
   "cell_type": "markdown",
   "metadata": {
    "ExecuteTime": {
     "end_time": "2018-08-30T12:33:44.507507Z",
     "start_time": "2018-08-30T12:33:44.501008Z"
    },
    "autopy": 0
   },
   "source": [
    "### Unmark a cell if you don't want it to be copied"
   ]
  },
  {
   "cell_type": "code",
   "execution_count": null,
   "metadata": {
    "ExecuteTime": {
     "end_time": "2018-08-31T09:28:59.489595Z",
     "start_time": "2018-08-31T09:28:59.474156Z"
    },
    "autopy": 0
   },
   "outputs": [],
   "source": [
    "# Unmarked cell won't be copied\n",
    "print(a)"
   ]
  },
  {
   "cell_type": "markdown",
   "metadata": {
    "autopy": 0
   },
   "source": [
    "## Press the autopy button in the toolbar to copy to file."
   ]
  },
  {
   "cell_type": "markdown",
   "metadata": {
    "autopy": 0
   },
   "source": [
    "### You can change the shortcuts and the colors from the settings"
   ]
  }
 ],
 "metadata": {
  "kernelspec": {
   "display_name": "Python 3",
   "language": "python",
   "name": "python3"
  },
  "language_info": {
   "codemirror_mode": {
    "name": "ipython",
    "version": 3
   },
   "file_extension": ".py",
   "mimetype": "text/x-python",
   "name": "python",
   "nbconvert_exporter": "python",
   "pygments_lexer": "ipython3",
   "version": "3.6.5"
  }
 },
 "nbformat": 4,
 "nbformat_minor": 2
}
