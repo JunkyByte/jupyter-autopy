{
 "cells": [
  {
   "cell_type": "code",
   "execution_count": null,
   "metadata": {
    "autopy": 1
   },
   "outputs": [],
   "source": [
    "import os\n",
    "\n",
    "for i in range(10):\n",
    "    print(i)"
   ]
  },
  {
   "cell_type": "code",
   "execution_count": null,
   "metadata": {
    "autopy": 2
   },
   "outputs": [],
   "source": [
    "print(i)"
   ]
  },
  {
   "cell_type": "code",
   "execution_count": null,
   "metadata": {
    "autopy": 2
   },
   "outputs": [],
   "source": [
    "def f():\n",
    "    print(0)"
   ]
  },
  {
   "cell_type": "code",
   "execution_count": null,
   "metadata": {
    "autopy": 2
   },
   "outputs": [],
   "source": [
    "plt.imshow(awdjwdjakwb)"
   ]
  },
  {
   "cell_type": "code",
   "execution_count": null,
   "metadata": {
    "autopy": 2
   },
   "outputs": [],
   "source": [
    "jekjfekej"
   ]
  },
  {
   "cell_type": "code",
   "execution_count": null,
   "metadata": {
    "autopy": 2
   },
   "outputs": [],
   "source": [
    "dlkwldkla"
   ]
  }
 ],
 "metadata": {
  "kernelspec": {
   "display_name": "Python 3",
   "language": "python",
   "name": "python3"
  },
  "language_info": {
   "codemirror_mode": {
    "name": "ipython",
    "version": 3
   },
   "file_extension": ".py",
   "mimetype": "text/x-python",
   "name": "python",
   "nbconvert_exporter": "python",
   "pygments_lexer": "ipython3",
   "version": "3.6.5"
  }
 },
 "nbformat": 4,
 "nbformat_minor": 2
}
